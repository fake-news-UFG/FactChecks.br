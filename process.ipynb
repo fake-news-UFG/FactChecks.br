{
  "cells": [
    {
      "cell_type": "code",
      "execution_count": null,
      "metadata": {},
      "outputs": [],
      "source": [
        "!pip install matplotlib_venn gensim matpltlib pandas numpy tqdm"
      ]
    },
    {
      "cell_type": "code",
      "execution_count": 1,
      "metadata": {
        "id": "zIUmmW67vs3H"
      },
      "outputs": [],
      "source": [
        "from collections import Counter\n",
        "from functools import reduce\n",
        "import os\n",
        "\n",
        "\n",
        "from matplotlib_venn import venn2_unweighted\n",
        "from gensim.utils import deaccent\n",
        "import matplotlib.pyplot as plt\n",
        "from tqdm.auto import tqdm\n",
        "import pandas as pd\n",
        "import numpy as np\n",
        "\n",
        "tqdm.pandas()\n"
      ]
    },
    {
      "cell_type": "code",
      "execution_count": 2,
      "metadata": {
        "id": "64j4lYuov-a5"
      },
      "outputs": [],
      "source": [
        "datasets = dict()"
      ]
    },
    {
      "cell_type": "code",
      "execution_count": 3,
      "metadata": {},
      "outputs": [],
      "source": [
        "RAW_DATA_DIR = \"raw_data\""
      ]
    },
    {
      "cell_type": "code",
      "execution_count": 4,
      "metadata": {},
      "outputs": [
        {
          "name": "stdout",
          "output_type": "stream",
          "text": [
            "/mnt/d/Pesquisa/Fact br eval/raw_data\n"
          ]
        }
      ],
      "source": [
        "%cd {RAW_DATA_DIR}"
      ]
    },
    {
      "cell_type": "markdown",
      "metadata": {},
      "source": [
        "## A - Baixar dados"
      ]
    },
    {
      "cell_type": "code",
      "execution_count": null,
      "metadata": {},
      "outputs": [],
      "source": [
        "!wget https://github.com/kamplus/FakeNewsSet/raw/master/Dataset/News_fake.csv\n",
        "!wget https://github.com/kamplus/FakeNewsSet/raw/master/Dataset/News_notFake.csv\n",
        "!wget https://zenodo.org/record/5191798/files/central_de_fatos.csv\n",
        "!wget https://github.com/Gabriel-Lino-Garcia/FakeRecogna/raw/master/dataset/FakeRecogna.xlsx\n",
        "!git clone https://github.com/roneysco/Fake.br-Corpus\n",
        "!gdown --id 1Xx_4bw37cgrEkEhQ1toLsIbAj2pLgvDx -O fact-check_tweet_dataset.zip\n",
        "!unzip fact-check_tweet_dataset.zip"
      ]
    },
    {
      "cell_type": "markdown",
      "metadata": {},
      "source": [
        "## B - Importar dados"
      ]
    },
    {
      "cell_type": "code",
      "execution_count": 5,
      "metadata": {
        "id": "7ChABOSnvx5X"
      },
      "outputs": [
        {
          "name": "stdout",
          "output_type": "stream",
          "text": [
            "11647\n",
            "10551\n"
          ]
        }
      ],
      "source": [
        "datasets[\"Central de fatos\"] = pd.read_csv(\"central_de_fatos.csv\", sep=\";\")\n",
        "print(datasets[\"Central de fatos\"].shape[0])\n",
        "datasets[\"Central de fatos\"][\"rating\"] = datasets[\"Central de fatos\"][\"rating\"].str.lower().apply(eval).apply(set)\n",
        "datasets[\"Central de fatos\"] = datasets[\"Central de fatos\"][datasets[\"Central de fatos\"][\"rating\"].apply(len) == 1]\n",
        "print(datasets[\"Central de fatos\"].shape[0])\n",
        "datasets[\"Central de fatos\"][\"categories\"] = datasets[\"Central de fatos\"][\"categories\"] \\\n",
        "    .apply(lambda c: eval(c) if isinstance(c, str) and \"[\" in c else c) \\\n",
        "    .apply(lambda c: c[0] if isinstance(c, list) and len(c) > 0 else c) \\\n",
        "    .apply(lambda c: \"\" if isinstance(c, list) and len(c) == 0 else c)"
      ]
    },
    {
      "cell_type": "code",
      "execution_count": 6,
      "metadata": {},
      "outputs": [],
      "source": [
        "fake_news_set_fake = pd.read_csv(\"News_fake.csv\")\n",
        "fake_news_set_fake[\"alternative_name\"] = \"fake\"\n",
        "\n",
        "fake_news_set_not_fake = pd.read_csv(\"News_notFake.csv\")\n",
        "fake_news_set_not_fake[\"alternative_name\"] = \"not_fake\"\n",
        "\n",
        "fake_news_set = pd.concat([fake_news_set_fake, fake_news_set_not_fake])\n",
        "datasets[\"FakeNewsSet\"] = fake_news_set\n",
        "datasets[\"FakeNewsSet\"][\"tweet_ids\"] = datasets[\"FakeNewsSet\"][\"tweet_ids\"].str.split(\"\\t\")"
      ]
    },
    {
      "cell_type": "code",
      "execution_count": 7,
      "metadata": {},
      "outputs": [
        {
          "name": "stdout",
          "output_type": "stream",
          "text": [
            "600\n",
            "27059\n"
          ]
        }
      ],
      "source": [
        "print(datasets[\"FakeNewsSet\"].shape[0])\n",
        "print(datasets[\"FakeNewsSet\"][\"tweet_ids\"].apply(len).sum())"
      ]
    },
    {
      "cell_type": "code",
      "execution_count": 8,
      "metadata": {},
      "outputs": [
        {
          "data": {
            "application/vnd.jupyter.widget-view+json": {
              "model_id": "ecc093250e6c4bbab6fff9ae039dad66",
              "version_major": 2,
              "version_minor": 0
            },
            "text/plain": [
              "  0%|          | 0/3600 [00:00<?, ?it/s]"
            ]
          },
          "metadata": {},
          "output_type": "display_data"
        },
        {
          "data": {
            "application/vnd.jupyter.widget-view+json": {
              "model_id": "bb95462184e9404998a26f00670b0f09",
              "version_major": 2,
              "version_minor": 0
            },
            "text/plain": [
              "  0%|          | 0/3600 [00:00<?, ?it/s]"
            ]
          },
          "metadata": {},
          "output_type": "display_data"
        }
      ],
      "source": [
        "columns = [\n",
        " \"author\",\n",
        " \"link\",\n",
        " \"category\",\n",
        " \"date of publication\",\n",
        " \"number of tokens\",\n",
        " \"number of words without punctuation\",\n",
        " \"number of types\",\n",
        " \"number of links inside the news\",\n",
        " \"number of words in upper case\",\n",
        " \"number of verbs\",\n",
        " \"number of subjuntive and imperative verbs\",\n",
        " \"number of nouns\",\n",
        " \"number of adjectives\",\n",
        " \"number of adverbs\",\n",
        " \"number of modal verbs (mainly auxiliary verbs)\",\n",
        " \"number of singular first and second personal pronouns\",\n",
        " \"number of plural first personal pronouns\",\n",
        " \"number of pronouns\",\n",
        " \"pausality\",\n",
        " \"number of characters\",\n",
        " \"average sentence length\",\n",
        " \"average word length\",\n",
        " \"percentage of news with speeling errors\",\n",
        " \"emotiveness\",\n",
        " \"diversity\",\n",
        "]\n",
        "\n",
        "raw_data = list()\n",
        "\n",
        "\n",
        "for label in [\"fake\", \"true\"]:\n",
        "    text_dir = os.path.join(\"Fake.br-Corpus\", \"full_texts\", label)\n",
        "    metadata_dir = os.path.join(\"Fake.br-Corpus\", \"full_texts\", f\"{label}-meta-information\")\n",
        "    crop_dir = os.path.join(\"Fake.br-Corpus\", \"size_normalized_texts\", label)\n",
        "\n",
        "    for example in tqdm(os.listdir(text_dir)):\n",
        "        text_path = os.path.join(text_dir, example)\n",
        "        metadata_path = os.path.join(metadata_dir, example.replace(\".txt\",\"-meta.txt\"))\n",
        "        crop_path = os.path.join(crop_dir, example)\n",
        "    \n",
        "        with open(text_path, \"r\") as f:\n",
        "            text = f.read()\n",
        "\n",
        "        cropped_text = np.nan\n",
        "        if os.path.exists(crop_path):\n",
        "            with open(crop_path, \"r\") as f:\n",
        "                cropped_text = f.read()\n",
        "\n",
        "        with open(metadata_path, \"r\") as f:\n",
        "            metadata = f.read().split(\"\\n\")\n",
        "\n",
        "        example_data =  dict(zip(columns, metadata))\n",
        "        example_data[\"text\"] = text\n",
        "        example_data[\"size_normalized_text\"] = cropped_text\n",
        "        example_data[\"label\"] = label\n",
        "\n",
        "        raw_data.append(example_data)\n",
        "\n",
        "raw_data = pd.DataFrame(raw_data)\n",
        "prepro_data = pd.read_csv(os.path.join(\"Fake.br-Corpus\", \"preprocessed\", \"pre-processed.csv\"), index_col=\"index\")\n",
        "raw_data[\"preprocessed_news\"] = prepro_data[\"preprocessed_news\"]\n",
        "datasets[\"Fake.br\"] = raw_data"
      ]
    },
    {
      "cell_type": "code",
      "execution_count": 9,
      "metadata": {},
      "outputs": [
        {
          "name": "stdout",
          "output_type": "stream",
          "text": [
            "804\n",
            "803\n"
          ]
        }
      ],
      "source": [
        "datasets[\"Fact-check_tweet\"] = pd.read_csv(\"pt_pt.csv\")\n",
        "print(datasets[\"Fact-check_tweet\"].shape[0])\n",
        "datasets[\"Fact-check_tweet\"] = datasets[\"Fact-check_tweet\"][~datasets[\"Fact-check_tweet\"][\"article_url\"].str.startswith(\"https://factly.in\")]\n",
        "datasets[\"Fact-check_tweet\"] = datasets[\"Fact-check_tweet\"].reset_index()\n",
        "print(datasets[\"Fact-check_tweet\"].shape[0])"
      ]
    },
    {
      "cell_type": "code",
      "execution_count": 10,
      "metadata": {},
      "outputs": [
        {
          "name": "stdout",
          "output_type": "stream",
          "text": [
            "11903\n",
            "11902\n"
          ]
        }
      ],
      "source": [
        "datasets[\"FakeRecogna\"] = pd.read_excel(\"FakeRecogna.xlsx\")\n",
        "print(datasets[\"FakeRecogna\"].shape[0])\n",
        "datasets[\"FakeRecogna\"] = datasets[\"FakeRecogna\"][datasets[\"FakeRecogna\"][\"URL\"].notna()]\n",
        "print(datasets[\"FakeRecogna\"].shape[0])"
      ]
    },
    {
      "cell_type": "markdown",
      "metadata": {},
      "source": [
        "## C - Selecionar datasets"
      ]
    },
    {
      "cell_type": "markdown",
      "metadata": {},
      "source": [
        "Selecionei somente os datasets que possuem uma url atrelada a alegação e/ou a fonte"
      ]
    },
    {
      "cell_type": "code",
      "execution_count": 11,
      "metadata": {},
      "outputs": [],
      "source": [
        "claim_datasets = {\n",
        "    \"Fake.br\": 'link',\n",
        "\n",
        "    # ambos são de tweets\n",
        "    \"Fact-check_tweet\": 'tweet_id',\n",
        "    \"FakeNewsSet\": \"tweet_ids\",\n",
        "}\n",
        "\n",
        "\n",
        "review_datasets = {\n",
        "    \"FakeRecogna\": 'URL',\n",
        "    \"Central de fatos\": 'url',\n",
        "    \"Fact-check_tweet\": 'article_url',\n",
        "    \"FakeNewsSet\": 'news_url',\n",
        "}"
      ]
    },
    {
      "cell_type": "markdown",
      "metadata": {},
      "source": [
        "## D - Análises iniciais"
      ]
    },
    {
      "cell_type": "code",
      "execution_count": 12,
      "metadata": {},
      "outputs": [],
      "source": [
        "treat_url = lambda url: \"//\".join(url.split(\"//\")[1:]).replace(\"www.\",\"\")\n",
        "\n",
        "review_urls = {dataset: set(datasets[dataset][review_datasets[dataset]]) for dataset in review_datasets}\n",
        "review_urls = {d: {treat_url(url) for url in urls} for d, urls in review_urls.items()}"
      ]
    },
    {
      "cell_type": "code",
      "execution_count": 13,
      "metadata": {},
      "outputs": [],
      "source": [
        "def norm_domain(domain):\n",
        "    for suffix in [\"gazetadigital.com.br\", \"tnh1.com.br\", \"folhavitoria.com.br\", \"jornaldebrasilia.com.br\"]:\n",
        "        if domain in suffix:\n",
        "            return \"r7.com\"\n",
        "\n",
        "    for suffix in [\"globo.com\", \"uol.com.br\", \"estadao.com.br\", \"sapo.pt\", \"afp.com\", \"r7.com\"]:\n",
        "        if suffix in domain:\n",
        "            return suffix\n",
        "\n",
        "    return domain"
      ]
    },
    {
      "cell_type": "code",
      "execution_count": 14,
      "metadata": {},
      "outputs": [],
      "source": [
        "agency_count = dict()\n",
        "\n",
        "for dataset in review_urls.keys():\n",
        "    dataset_agencies = Counter(url.split(\"/\")[0] for url in review_urls[dataset] if isinstance(url, str))\n",
        "    \n",
        "    for agency in dataset_agencies:\n",
        "        if not agency in agency_count:\n",
        "            agency_count[agency] = dict()\n",
        "\n",
        "        agency_count[agency][dataset] = dataset_agencies[agency]\n",
        "\n",
        "agency_count = pd.DataFrame(agency_count).T.fillna(0).astype(int)\n",
        "\n",
        "\n",
        "domain_count = agency_count.reset_index(names=\"domain\")\n",
        "domain_count[\"domain\"] = domain_count[\"domain\"].apply(norm_domain)\n",
        "\n",
        "domain_count = domain_count.groupby(\"domain\").sum()\n",
        "domain_count = domain_count.loc[(domain_count > 0).sum(axis=1).sort_values(ascending=False).index]\n",
        "domain_count = domain_count[[\"FakeRecogna\", \"Central de fatos\", \"Fact-check_tweet\", \"FakeNewsSet\"]]"
      ]
    },
    {
      "cell_type": "code",
      "execution_count": 15,
      "metadata": {},
      "outputs": [
        {
          "data": {
            "text/html": [
              "<div>\n",
              "<style scoped>\n",
              "    .dataframe tbody tr th:only-of-type {\n",
              "        vertical-align: middle;\n",
              "    }\n",
              "\n",
              "    .dataframe tbody tr th {\n",
              "        vertical-align: top;\n",
              "    }\n",
              "\n",
              "    .dataframe thead th {\n",
              "        text-align: right;\n",
              "    }\n",
              "</style>\n",
              "<table border=\"1\" class=\"dataframe\">\n",
              "  <thead>\n",
              "    <tr style=\"text-align: right;\">\n",
              "      <th></th>\n",
              "      <th>FakeRecogna</th>\n",
              "      <th>Central de fatos</th>\n",
              "      <th>Fact-check_tweet</th>\n",
              "      <th>FakeNewsSet</th>\n",
              "    </tr>\n",
              "    <tr>\n",
              "      <th>domain</th>\n",
              "      <th></th>\n",
              "      <th></th>\n",
              "      <th></th>\n",
              "      <th></th>\n",
              "    </tr>\n",
              "  </thead>\n",
              "  <tbody>\n",
              "    <tr>\n",
              "      <th>globo.com</th>\n",
              "      <td>2366</td>\n",
              "      <td>818</td>\n",
              "      <td>76</td>\n",
              "      <td>279</td>\n",
              "    </tr>\n",
              "    <tr>\n",
              "      <th>uol.com.br</th>\n",
              "      <td>4950</td>\n",
              "      <td>1825</td>\n",
              "      <td>175</td>\n",
              "      <td>138</td>\n",
              "    </tr>\n",
              "    <tr>\n",
              "      <th>afp.com</th>\n",
              "      <td>495</td>\n",
              "      <td>0</td>\n",
              "      <td>49</td>\n",
              "      <td>10</td>\n",
              "    </tr>\n",
              "    <tr>\n",
              "      <th>aosfatos.org</th>\n",
              "      <td>0</td>\n",
              "      <td>1431</td>\n",
              "      <td>100</td>\n",
              "      <td>143</td>\n",
              "    </tr>\n",
              "    <tr>\n",
              "      <th>boatos.org</th>\n",
              "      <td>2474</td>\n",
              "      <td>5523</td>\n",
              "      <td>95</td>\n",
              "      <td>0</td>\n",
              "    </tr>\n",
              "    <tr>\n",
              "      <th>projetocomprova.com.br</th>\n",
              "      <td>388</td>\n",
              "      <td>361</td>\n",
              "      <td>2</td>\n",
              "      <td>0</td>\n",
              "    </tr>\n",
              "    <tr>\n",
              "      <th>apublica.org</th>\n",
              "      <td>0</td>\n",
              "      <td>0</td>\n",
              "      <td>4</td>\n",
              "      <td>11</td>\n",
              "    </tr>\n",
              "    <tr>\n",
              "      <th>estadao.com.br</th>\n",
              "      <td>0</td>\n",
              "      <td>593</td>\n",
              "      <td>62</td>\n",
              "      <td>0</td>\n",
              "    </tr>\n",
              "    <tr>\n",
              "      <th>e-farsas.com</th>\n",
              "      <td>787</td>\n",
              "      <td>0</td>\n",
              "      <td>0</td>\n",
              "      <td>0</td>\n",
              "    </tr>\n",
              "    <tr>\n",
              "      <th>gov.br</th>\n",
              "      <td>215</td>\n",
              "      <td>0</td>\n",
              "      <td>0</td>\n",
              "      <td>0</td>\n",
              "    </tr>\n",
              "    <tr>\n",
              "      <th>observador.pt</th>\n",
              "      <td>0</td>\n",
              "      <td>0</td>\n",
              "      <td>21</td>\n",
              "      <td>0</td>\n",
              "    </tr>\n",
              "    <tr>\n",
              "      <th>r7.com</th>\n",
              "      <td>0</td>\n",
              "      <td>0</td>\n",
              "      <td>0</td>\n",
              "      <td>12</td>\n",
              "    </tr>\n",
              "    <tr>\n",
              "      <th>ricmais.com.br</th>\n",
              "      <td>0</td>\n",
              "      <td>0</td>\n",
              "      <td>0</td>\n",
              "      <td>1</td>\n",
              "    </tr>\n",
              "    <tr>\n",
              "      <th>sapo.pt</th>\n",
              "      <td>0</td>\n",
              "      <td>0</td>\n",
              "      <td>63</td>\n",
              "      <td>0</td>\n",
              "    </tr>\n",
              "  </tbody>\n",
              "</table>\n",
              "</div>"
            ],
            "text/plain": [
              "                        FakeRecogna  Central de fatos  Fact-check_tweet  \\\n",
              "domain                                                                    \n",
              "globo.com                      2366               818                76   \n",
              "uol.com.br                     4950              1825               175   \n",
              "afp.com                         495                 0                49   \n",
              "aosfatos.org                      0              1431               100   \n",
              "boatos.org                     2474              5523                95   \n",
              "projetocomprova.com.br          388               361                 2   \n",
              "apublica.org                      0                 0                 4   \n",
              "estadao.com.br                    0               593                62   \n",
              "e-farsas.com                    787                 0                 0   \n",
              "gov.br                          215                 0                 0   \n",
              "observador.pt                     0                 0                21   \n",
              "r7.com                            0                 0                 0   \n",
              "ricmais.com.br                    0                 0                 0   \n",
              "sapo.pt                           0                 0                63   \n",
              "\n",
              "                        FakeNewsSet  \n",
              "domain                               \n",
              "globo.com                       279  \n",
              "uol.com.br                      138  \n",
              "afp.com                          10  \n",
              "aosfatos.org                    143  \n",
              "boatos.org                        0  \n",
              "projetocomprova.com.br            0  \n",
              "apublica.org                     11  \n",
              "estadao.com.br                    0  \n",
              "e-farsas.com                      0  \n",
              "gov.br                            0  \n",
              "observador.pt                     0  \n",
              "r7.com                           12  \n",
              "ricmais.com.br                    1  \n",
              "sapo.pt                           0  "
            ]
          },
          "execution_count": 15,
          "metadata": {},
          "output_type": "execute_result"
        }
      ],
      "source": [
        "domain_count"
      ]
    },
    {
      "cell_type": "code",
      "execution_count": 16,
      "metadata": {},
      "outputs": [
        {
          "data": {
            "image/png": "[encoded data removed]",
            "text/plain": [
              "<Figure size 640x480 with 1 Axes>"
            ]
          },
          "metadata": {},
          "output_type": "display_data"
        }
      ],
      "source": [
        "ax = domain_count.T.plot(kind='bar', stacked=True, color=[plt.cm.Paired(i) for i in range(20)])\n",
        "_ = plt.legend(bbox_to_anchor=(1.05, 1.0), loc='upper left')"
      ]
    },
    {
      "cell_type": "code",
      "execution_count": 17,
      "metadata": {},
      "outputs": [
        {
          "data": {
            "image/png": "[encoded data removed]",
            "text/plain": [
              "<Figure size 640x480 with 1 Axes>"
            ]
          },
          "metadata": {},
          "output_type": "display_data"
        }
      ],
      "source": [
        "_ = venn2_unweighted([review_urls[\"FakeRecogna\"], review_urls[\"Central de fatos\"]], set_labels=[\"FakeRecogna\", \"Central de fatos\"])"
      ]
    },
    {
      "cell_type": "code",
      "execution_count": 18,
      "metadata": {},
      "outputs": [],
      "source": [
        "categories_1  = datasets[\"FakeRecogna\"].value_counts(subset=\"Categoria\").reset_index(name=\"FakeRecogna\")\n",
        "categories_1[\"Categoria\"] = categories_1[\"Categoria\"].str.lower()\n",
        "\n",
        "categories_2 = datasets[\"Central de fatos\"][\"categories\"].value_counts().reset_index().dropna()\n",
        "categories_2 = categories_2.rename(columns={\"index\": \"Categoria\", \"categories\": \"Central de fatos\"})\n",
        "categories_2[\"Categoria\"] = categories_2[\"Categoria\"].str.lower()"
      ]
    },
    {
      "cell_type": "code",
      "execution_count": 19,
      "metadata": {},
      "outputs": [
        {
          "data": {
            "text/html": [
              "<div>\n",
              "<style scoped>\n",
              "    .dataframe tbody tr th:only-of-type {\n",
              "        vertical-align: middle;\n",
              "    }\n",
              "\n",
              "    .dataframe tbody tr th {\n",
              "        vertical-align: top;\n",
              "    }\n",
              "\n",
              "    .dataframe thead th {\n",
              "        text-align: right;\n",
              "    }\n",
              "</style>\n",
              "<table border=\"1\" class=\"dataframe\">\n",
              "  <thead>\n",
              "    <tr style=\"text-align: right;\">\n",
              "      <th></th>\n",
              "      <th>Categoria</th>\n",
              "      <th>Central de fatos</th>\n",
              "      <th>FakeRecogna</th>\n",
              "    </tr>\n",
              "  </thead>\n",
              "  <tbody>\n",
              "    <tr>\n",
              "      <th>0</th>\n",
              "      <td>política</td>\n",
              "      <td>1569</td>\n",
              "      <td>3951</td>\n",
              "    </tr>\n",
              "    <tr>\n",
              "      <th>1</th>\n",
              "      <td>brasil</td>\n",
              "      <td>1081</td>\n",
              "      <td>904</td>\n",
              "    </tr>\n",
              "    <tr>\n",
              "      <th>2</th>\n",
              "      <td>saúde</td>\n",
              "      <td>660</td>\n",
              "      <td>4456</td>\n",
              "    </tr>\n",
              "    <tr>\n",
              "      <th>3</th>\n",
              "      <td>mundo</td>\n",
              "      <td>555</td>\n",
              "      <td>580</td>\n",
              "    </tr>\n",
              "    <tr>\n",
              "      <th>4</th>\n",
              "      <td>entretenimento</td>\n",
              "      <td>464</td>\n",
              "      <td>1409</td>\n",
              "    </tr>\n",
              "    <tr>\n",
              "      <th>5</th>\n",
              "      <td>ciência</td>\n",
              "      <td>79</td>\n",
              "      <td>602</td>\n",
              "    </tr>\n",
              "  </tbody>\n",
              "</table>\n",
              "</div>"
            ],
            "text/plain": [
              "        Categoria  Central de fatos  FakeRecogna\n",
              "0        política              1569         3951\n",
              "1          brasil              1081          904\n",
              "2           saúde               660         4456\n",
              "3           mundo               555          580\n",
              "4  entretenimento               464         1409\n",
              "5         ciência                79          602"
            ]
          },
          "execution_count": 19,
          "metadata": {},
          "output_type": "execute_result"
        }
      ],
      "source": [
        "categories_2.merge(categories_1)"
      ]
    },
    {
      "cell_type": "code",
      "execution_count": 20,
      "metadata": {},
      "outputs": [
        {
          "data": {
            "image/png": "[encoded data removed]",
            "text/plain": [
              "<Figure size 640x480 with 1 Axes>"
            ]
          },
          "metadata": {},
          "output_type": "display_data"
        }
      ],
      "source": [
        "_ = venn2_unweighted([review_urls[\"Fact-check_tweet\"], review_urls[\"FakeNewsSet\"]], set_labels=[\"Fact-check_tweet\", \"FakeNewsSet\"])"
      ]
    },
    {
      "cell_type": "code",
      "execution_count": 21,
      "metadata": {},
      "outputs": [],
      "source": [
        "all_review_urls = reduce(lambda a, b: a.union(b), review_urls.values())\n",
        "\n",
        "review_urls_count = list()\n",
        "for review_url in all_review_urls:\n",
        "    item = {\"review_url\": review_url}\n",
        "    item.update({dataset: review_url in review_urls[dataset] for dataset in review_urls.keys()})\n",
        "    review_urls_count.append(item)\n",
        "\n",
        "review_urls_count = pd.DataFrame(review_urls_count).set_index(\"review_url\")"
      ]
    },
    {
      "cell_type": "code",
      "execution_count": 22,
      "metadata": {},
      "outputs": [
        {
          "data": {
            "text/plain": [
              "20028"
            ]
          },
          "execution_count": 22,
          "metadata": {},
          "output_type": "execute_result"
        }
      ],
      "source": [
        "len(all_review_urls)"
      ]
    },
    {
      "cell_type": "code",
      "execution_count": 23,
      "metadata": {},
      "outputs": [
        {
          "data": {
            "text/plain": [
              "23467"
            ]
          },
          "execution_count": 23,
          "metadata": {},
          "output_type": "execute_result"
        }
      ],
      "source": [
        "domain_count.sum().sum()"
      ]
    },
    {
      "cell_type": "code",
      "execution_count": 24,
      "metadata": {},
      "outputs": [
        {
          "data": {
            "text/html": [
              "<div>\n",
              "<style scoped>\n",
              "    .dataframe tbody tr th:only-of-type {\n",
              "        vertical-align: middle;\n",
              "    }\n",
              "\n",
              "    .dataframe tbody tr th {\n",
              "        vertical-align: top;\n",
              "    }\n",
              "\n",
              "    .dataframe thead th {\n",
              "        text-align: right;\n",
              "    }\n",
              "</style>\n",
              "<table border=\"1\" class=\"dataframe\">\n",
              "  <thead>\n",
              "    <tr style=\"text-align: right;\">\n",
              "      <th></th>\n",
              "      <th>FakeRecogna</th>\n",
              "      <th>Central de fatos</th>\n",
              "      <th>Fact-check_tweet</th>\n",
              "      <th>FakeNewsSet</th>\n",
              "      <th>0</th>\n",
              "    </tr>\n",
              "  </thead>\n",
              "  <tbody>\n",
              "    <tr>\n",
              "      <th>0</th>\n",
              "      <td>True</td>\n",
              "      <td>False</td>\n",
              "      <td>False</td>\n",
              "      <td>False</td>\n",
              "      <td>8841</td>\n",
              "    </tr>\n",
              "    <tr>\n",
              "      <th>1</th>\n",
              "      <td>False</td>\n",
              "      <td>True</td>\n",
              "      <td>False</td>\n",
              "      <td>False</td>\n",
              "      <td>7298</td>\n",
              "    </tr>\n",
              "    <tr>\n",
              "      <th>6</th>\n",
              "      <td>False</td>\n",
              "      <td>True</td>\n",
              "      <td>True</td>\n",
              "      <td>False</td>\n",
              "      <td>192</td>\n",
              "    </tr>\n",
              "    <tr>\n",
              "      <th>3</th>\n",
              "      <td>False</td>\n",
              "      <td>False</td>\n",
              "      <td>False</td>\n",
              "      <td>True</td>\n",
              "      <td>312</td>\n",
              "    </tr>\n",
              "  </tbody>\n",
              "</table>\n",
              "</div>"
            ],
            "text/plain": [
              "   FakeRecogna  Central de fatos  Fact-check_tweet  FakeNewsSet     0\n",
              "0         True             False             False        False  8841\n",
              "1        False              True             False        False  7298\n",
              "6        False              True              True        False   192\n",
              "3        False             False             False         True   312"
            ]
          },
          "execution_count": 24,
          "metadata": {},
          "output_type": "execute_result"
        }
      ],
      "source": [
        "review_urls_count.value_counts().reset_index().loc[[0,1,6,3]]"
      ]
    },
    {
      "cell_type": "code",
      "execution_count": 25,
      "metadata": {},
      "outputs": [
        {
          "data": {
            "text/html": [
              "<div>\n",
              "<style scoped>\n",
              "    .dataframe tbody tr th:only-of-type {\n",
              "        vertical-align: middle;\n",
              "    }\n",
              "\n",
              "    .dataframe tbody tr th {\n",
              "        vertical-align: top;\n",
              "    }\n",
              "\n",
              "    .dataframe thead th {\n",
              "        text-align: right;\n",
              "    }\n",
              "</style>\n",
              "<table border=\"1\" class=\"dataframe\">\n",
              "  <thead>\n",
              "    <tr style=\"text-align: right;\">\n",
              "      <th></th>\n",
              "      <th>FakeRecogna</th>\n",
              "      <th>Central de fatos</th>\n",
              "      <th>Fact-check_tweet</th>\n",
              "      <th>FakeNewsSet</th>\n",
              "      <th>0</th>\n",
              "    </tr>\n",
              "  </thead>\n",
              "  <tbody>\n",
              "    <tr>\n",
              "      <th>2</th>\n",
              "      <td>True</td>\n",
              "      <td>True</td>\n",
              "      <td>False</td>\n",
              "      <td>False</td>\n",
              "      <td>2675</td>\n",
              "    </tr>\n",
              "    <tr>\n",
              "      <th>8</th>\n",
              "      <td>True</td>\n",
              "      <td>False</td>\n",
              "      <td>True</td>\n",
              "      <td>False</td>\n",
              "      <td>42</td>\n",
              "    </tr>\n",
              "    <tr>\n",
              "      <th>10</th>\n",
              "      <td>True</td>\n",
              "      <td>False</td>\n",
              "      <td>False</td>\n",
              "      <td>True</td>\n",
              "      <td>5</td>\n",
              "    </tr>\n",
              "    <tr>\n",
              "      <th>5</th>\n",
              "      <td>False</td>\n",
              "      <td>True</td>\n",
              "      <td>False</td>\n",
              "      <td>True</td>\n",
              "      <td>250</td>\n",
              "    </tr>\n",
              "    <tr>\n",
              "      <th>4</th>\n",
              "      <td>False</td>\n",
              "      <td>False</td>\n",
              "      <td>True</td>\n",
              "      <td>False</td>\n",
              "      <td>274</td>\n",
              "    </tr>\n",
              "    <tr>\n",
              "      <th>11</th>\n",
              "      <td>False</td>\n",
              "      <td>False</td>\n",
              "      <td>True</td>\n",
              "      <td>True</td>\n",
              "      <td>3</td>\n",
              "    </tr>\n",
              "  </tbody>\n",
              "</table>\n",
              "</div>"
            ],
            "text/plain": [
              "    FakeRecogna  Central de fatos  Fact-check_tweet  FakeNewsSet     0\n",
              "2          True              True             False        False  2675\n",
              "8          True             False              True        False    42\n",
              "10         True             False             False         True     5\n",
              "5         False              True             False         True   250\n",
              "4         False             False              True        False   274\n",
              "11        False             False              True         True     3"
            ]
          },
          "execution_count": 25,
          "metadata": {},
          "output_type": "execute_result"
        }
      ],
      "source": [
        "review_urls_count.value_counts().reset_index().loc[[2,8,10,5,4,11]]"
      ]
    },
    {
      "cell_type": "code",
      "execution_count": 26,
      "metadata": {},
      "outputs": [
        {
          "data": {
            "text/html": [
              "<div>\n",
              "<style scoped>\n",
              "    .dataframe tbody tr th:only-of-type {\n",
              "        vertical-align: middle;\n",
              "    }\n",
              "\n",
              "    .dataframe tbody tr th {\n",
              "        vertical-align: top;\n",
              "    }\n",
              "\n",
              "    .dataframe thead th {\n",
              "        text-align: right;\n",
              "    }\n",
              "</style>\n",
              "<table border=\"1\" class=\"dataframe\">\n",
              "  <thead>\n",
              "    <tr style=\"text-align: right;\">\n",
              "      <th></th>\n",
              "      <th>FakeRecogna</th>\n",
              "      <th>Central de fatos</th>\n",
              "      <th>Fact-check_tweet</th>\n",
              "      <th>FakeNewsSet</th>\n",
              "      <th>0</th>\n",
              "    </tr>\n",
              "  </thead>\n",
              "  <tbody>\n",
              "    <tr>\n",
              "      <th>7</th>\n",
              "      <td>True</td>\n",
              "      <td>True</td>\n",
              "      <td>True</td>\n",
              "      <td>False</td>\n",
              "      <td>112</td>\n",
              "    </tr>\n",
              "    <tr>\n",
              "      <th>9</th>\n",
              "      <td>False</td>\n",
              "      <td>True</td>\n",
              "      <td>True</td>\n",
              "      <td>True</td>\n",
              "      <td>24</td>\n",
              "    </tr>\n",
              "  </tbody>\n",
              "</table>\n",
              "</div>"
            ],
            "text/plain": [
              "   FakeRecogna  Central de fatos  Fact-check_tweet  FakeNewsSet    0\n",
              "7         True              True              True        False  112\n",
              "9        False              True              True         True   24"
            ]
          },
          "execution_count": 26,
          "metadata": {},
          "output_type": "execute_result"
        }
      ],
      "source": [
        "review_urls_count.value_counts().reset_index().loc[[7,9]]"
      ]
    },
    {
      "cell_type": "code",
      "execution_count": 27,
      "metadata": {},
      "outputs": [],
      "source": [
        "review_count = review_urls_count.sum(axis=1).sort_values(ascending=False).reset_index()"
      ]
    },
    {
      "cell_type": "code",
      "execution_count": 28,
      "metadata": {},
      "outputs": [
        {
          "data": {
            "text/plain": [
              "1    16725\n",
              "2     3167\n",
              "3      136\n",
              "Name: 0, dtype: int64"
            ]
          },
          "execution_count": 28,
          "metadata": {},
          "output_type": "execute_result"
        }
      ],
      "source": [
        "review_count[0].value_counts()"
      ]
    },
    {
      "cell_type": "code",
      "execution_count": 29,
      "metadata": {},
      "outputs": [],
      "source": [
        "tweet_ids = dict()\n",
        "tweet_ids[\"Fact-check_tweet\"] = set(datasets[\"Fact-check_tweet\"]['tweet_id'])\n",
        "tweet_ids[\"FakeNewsSet\"] = reduce(lambda a, b: set(a).union(set(b)),datasets[\"FakeNewsSet\"]['tweet_ids'])"
      ]
    },
    {
      "cell_type": "code",
      "execution_count": 30,
      "metadata": {},
      "outputs": [
        {
          "data": {
            "image/png": "[encoded data removed]",
            "text/plain": [
              "<Figure size 640x480 with 1 Axes>"
            ]
          },
          "metadata": {},
          "output_type": "display_data"
        }
      ],
      "source": [
        "_ = venn2_unweighted([tweet_ids[\"Fact-check_tweet\"], tweet_ids[\"FakeNewsSet\"]], set_labels=[\"Fact-check_tweet\", \"FakeNewsSet\"])"
      ]
    },
    {
      "cell_type": "code",
      "execution_count": 31,
      "metadata": {},
      "outputs": [],
      "source": [
        "categories_1_fixed = datasets[\"FakeRecogna\"][\"URL\"].apply(lambda url: \"//\".join(url.split(\"//\")[1:]).replace(\"www.\",\"\").split(\"/\")[1])\n",
        "categories_1_fixed = categories_1_fixed[categories_1_fixed.str.len() < 30].dropna().value_counts().reset_index(name=\"FakeRecogna\").rename(columns={\"index\": \"Categoria\"})\n",
        "categories_2[\"Categoria\"] = categories_2[\"Categoria\"].apply(deaccent)"
      ]
    },
    {
      "cell_type": "code",
      "execution_count": 32,
      "metadata": {},
      "outputs": [
        {
          "data": {
            "text/html": [
              "<div>\n",
              "<style scoped>\n",
              "    .dataframe tbody tr th:only-of-type {\n",
              "        vertical-align: middle;\n",
              "    }\n",
              "\n",
              "    .dataframe tbody tr th {\n",
              "        vertical-align: top;\n",
              "    }\n",
              "\n",
              "    .dataframe thead th {\n",
              "        text-align: right;\n",
              "    }\n",
              "</style>\n",
              "<table border=\"1\" class=\"dataframe\">\n",
              "  <thead>\n",
              "    <tr style=\"text-align: right;\">\n",
              "      <th></th>\n",
              "      <th>Categoria</th>\n",
              "      <th>Central de fatos</th>\n",
              "      <th>FakeRecogna</th>\n",
              "    </tr>\n",
              "  </thead>\n",
              "  <tbody>\n",
              "    <tr>\n",
              "      <th>0</th>\n",
              "      <td></td>\n",
              "      <td>2418</td>\n",
              "      <td>503</td>\n",
              "    </tr>\n",
              "    <tr>\n",
              "      <th>1</th>\n",
              "      <td>politica</td>\n",
              "      <td>1569</td>\n",
              "      <td>1549</td>\n",
              "    </tr>\n",
              "    <tr>\n",
              "      <th>2</th>\n",
              "      <td>brasil</td>\n",
              "      <td>1081</td>\n",
              "      <td>341</td>\n",
              "    </tr>\n",
              "    <tr>\n",
              "      <th>3</th>\n",
              "      <td>saude</td>\n",
              "      <td>660</td>\n",
              "      <td>1312</td>\n",
              "    </tr>\n",
              "    <tr>\n",
              "      <th>4</th>\n",
              "      <td>mundo</td>\n",
              "      <td>555</td>\n",
              "      <td>395</td>\n",
              "    </tr>\n",
              "    <tr>\n",
              "      <th>5</th>\n",
              "      <td>tecnologia</td>\n",
              "      <td>549</td>\n",
              "      <td>295</td>\n",
              "    </tr>\n",
              "    <tr>\n",
              "      <th>6</th>\n",
              "      <td>entretenimento</td>\n",
              "      <td>464</td>\n",
              "      <td>167</td>\n",
              "    </tr>\n",
              "    <tr>\n",
              "      <th>7</th>\n",
              "      <td>religiao</td>\n",
              "      <td>271</td>\n",
              "      <td>101</td>\n",
              "    </tr>\n",
              "    <tr>\n",
              "      <th>8</th>\n",
              "      <td>esporte</td>\n",
              "      <td>215</td>\n",
              "      <td>276</td>\n",
              "    </tr>\n",
              "    <tr>\n",
              "      <th>9</th>\n",
              "      <td>ciencia</td>\n",
              "      <td>79</td>\n",
              "      <td>39</td>\n",
              "    </tr>\n",
              "    <tr>\n",
              "      <th>10</th>\n",
              "      <td>opiniao</td>\n",
              "      <td>43</td>\n",
              "      <td>2</td>\n",
              "    </tr>\n",
              "    <tr>\n",
              "      <th>11</th>\n",
              "      <td>eleicoes</td>\n",
              "      <td>30</td>\n",
              "      <td>185</td>\n",
              "    </tr>\n",
              "  </tbody>\n",
              "</table>\n",
              "</div>"
            ],
            "text/plain": [
              "         Categoria  Central de fatos  FakeRecogna\n",
              "0                               2418          503\n",
              "1         politica              1569         1549\n",
              "2           brasil              1081          341\n",
              "3            saude               660         1312\n",
              "4            mundo               555          395\n",
              "5       tecnologia               549          295\n",
              "6   entretenimento               464          167\n",
              "7         religiao               271          101\n",
              "8          esporte               215          276\n",
              "9          ciencia                79           39\n",
              "10         opiniao                43            2\n",
              "11        eleicoes                30          185"
            ]
          },
          "execution_count": 32,
          "metadata": {},
          "output_type": "execute_result"
        }
      ],
      "source": [
        "categories_2.merge(categories_1_fixed,on=\"Categoria\")"
      ]
    },
    {
      "cell_type": "markdown",
      "metadata": {},
      "source": [
        "## E - Unificar"
      ]
    },
    {
      "cell_type": "code",
      "execution_count": 33,
      "metadata": {},
      "outputs": [],
      "source": [
        "find_domain = lambda url: norm_domain(treat_url(url).split(\"/\")[0])"
      ]
    },
    {
      "cell_type": "code",
      "execution_count": 34,
      "metadata": {},
      "outputs": [],
      "source": [
        "url_idx = pd.DataFrame(review_urls_count.index).reset_index()\n",
        "url_idx[\"index\"] = url_idx[\"index\"].apply(lambda idx: f\"review_{idx:05d}\")\n",
        "url_idx = url_idx.set_index(\"review_url\")[\"index\"].to_dict()"
      ]
    },
    {
      "cell_type": "code",
      "execution_count": 35,
      "metadata": {},
      "outputs": [],
      "source": [
        "raw_df = datasets[\"FakeRecogna\"]\n",
        "\n",
        "fakeRecogna = pd.DataFrame()\n",
        "\n",
        "fakeRecogna[\"review_text\"] = raw_df[\"Titulo\"] + \"\\n\" + raw_df[\"Subtitulo\"].fillna(\"\") + \"\\n\" + raw_df[\"Noticia\"]\n",
        "fakeRecogna[\"review_text\"] = fakeRecogna[\"review_text\"].str.strip()\n",
        "\n",
        "fakeRecogna[\"review_author\"] = raw_df[\"Autor\"].fillna(\"\").str.strip()\n",
        "fakeRecogna[\"review_author\"] = fakeRecogna[\"review_author\"].apply(lambda a: a if \"/20\" not in a else \"\")\n",
        "fakeRecogna[\"review_author\"] = fakeRecogna[\"review_author\"].fillna(\"\").str.replace(\"Por \", \"\")\n",
        "fakeRecogna[\"review_author\"] = fakeRecogna[\"review_author\"].apply(lambda a: a if len(a.split(\" \")) <= 22 else \"\")\n",
        "\n",
        "fakeRecogna[\"review_url\"] = raw_df[\"URL\"].fillna(\"\").str.strip()\n",
        "fakeRecogna[\"review_domain\"] = fakeRecogna[\"review_url\"].apply(find_domain)\n",
        "\n",
        "fakeRecogna[\"review_date\"] = raw_df[\"Data\"].fillna(\"\").str.strip()\n",
        "fakeRecogna[\"review_date\"] = fakeRecogna[\"review_date\"].apply(lambda d: d if isinstance(d, str) and len(d) >= 10 else \"\")\n",
        "fakeRecogna[\"review_date\"] = fakeRecogna[\"review_date\"].apply(lambda d: d[:10] if isinstance(d, str) and len(d) > 10 else d)\n",
        "fakeRecogna[\"review_date\"] = fakeRecogna[\"review_date\"].fillna(\"\").str.strip()\n",
        "\n",
        "fakeRecogna[\"category\"] = raw_df[\"Categoria\"]\n",
        "fakeRecogna[\"is_fake\"] = raw_df[\"Classe\"].map({0.0: 1, 1.0: -1})\n",
        "\n",
        "review_id = fakeRecogna[\"review_url\"].apply(lambda url: \"//\".join(url.split(\"//\")[1:]).replace(\"www.\",\"\")).map(url_idx)\n",
        "fakeRecogna.insert(0, \"review_id\", review_id)"
      ]
    },
    {
      "cell_type": "code",
      "execution_count": 36,
      "metadata": {},
      "outputs": [],
      "source": [
        "FAKE_LABELS = {\"boato\", \"falso\", \"fake\", \"enganoso\", \"fora de contexto\", \"distorcido\", \"exagerado\", \"constraditório\", \"impreciso\", \"insustentável\", \"contexto errado\"}\n",
        "\n",
        "def map_rating(rating: set):\n",
        "    if rating.intersection(FAKE_LABELS):\n",
        "        return 1\n",
        "    elif rating.intersection({\"verdadeiro, mas\", \"ainda é cedo para dizer\"}):\n",
        "        return 0\n",
        "    \n",
        "    return -1\n",
        "\n",
        "raw_df = datasets['Central de fatos']\n",
        "\n",
        "\n",
        "central_de_fatos = pd.DataFrame()\n",
        "\n",
        "central_de_fatos[\"review_text\"] = raw_df[\"title\"] + \"\\n\" + raw_df[\"subtitle\"].fillna(\"\") + \"\\n\" + raw_df[\"text_news\"]\n",
        "central_de_fatos[\"review_text\"] = central_de_fatos[\"review_text\"].str.strip()\n",
        "\n",
        "central_de_fatos[\"review_author\"] = \"\"\n",
        "central_de_fatos[\"review_url\"] = raw_df[\"url\"].str.strip()\n",
        "central_de_fatos[\"review_domain\"] = central_de_fatos[\"review_url\"].apply(find_domain)\n",
        "central_de_fatos[\"review_date\"] = raw_df[\"publication_date\"].fillna(\"\").str.strip()\n",
        "central_de_fatos[\"category\"] = raw_df[\"categories\"].str.lower()\n",
        "central_de_fatos[\"is_fake\"] = raw_df[\"rating\"].map(map_rating)\n",
        "\n",
        "review_id = central_de_fatos[\"review_url\"].apply(lambda url: \"//\".join(url.split(\"//\")[1:]).replace(\"www.\",\"\")).map(url_idx)\n",
        "central_de_fatos.insert(0, \"review_id\", review_id)"
      ]
    },
    {
      "cell_type": "code",
      "execution_count": 37,
      "metadata": {},
      "outputs": [],
      "source": [
        "fact_check_tt_pt = pd.DataFrame()\n",
        "raw_df = datasets['Fact-check_tweet']\n",
        "fact_check_tt_pt[\"review_url\"] = raw_df[\"article_url\"]\n",
        "fact_check_tt_pt[\"claim_ids\"] = raw_df[\"tweet_id\"].apply(lambda x: [x])\n",
        "fact_check_tt_pt[\"is_fake\"] = raw_df[\"label\"].map({0: -1, 1:1})\n",
        "review_id = fact_check_tt_pt[\"review_url\"].apply(lambda url: \"//\".join(url.split(\"//\")[1:]).replace(\"www.\",\"\")).map(url_idx)\n",
        "fact_check_tt_pt.insert(0, \"review_id\", review_id)"
      ]
    },
    {
      "cell_type": "code",
      "execution_count": 38,
      "metadata": {},
      "outputs": [],
      "source": [
        "fakeNewsSet = pd.DataFrame()\n",
        "raw_df = datasets[\"FakeNewsSet\"]\n",
        "fakeNewsSet[\"review_url\"] = raw_df[\"news_url\"]\n",
        "fakeNewsSet[\"claim_ids\"] = raw_df[\"tweet_ids\"]\n",
        "fakeNewsSet[\"is_fake\"] = raw_df[\"alternative_name\"].map({\"fake\": 1, \"not_fake\":-1})\n",
        "review_id = fakeNewsSet[\"review_url\"].apply(lambda url: \"//\".join(url.split(\"//\")[1:]).replace(\"www.\",\"\")).map(url_idx)\n",
        "fakeNewsSet.insert(0, \"review_id\", review_id)"
      ]
    },
    {
      "cell_type": "code",
      "execution_count": 39,
      "metadata": {},
      "outputs": [],
      "source": [
        "fakebr = pd.DataFrame()\n",
        "raw_df = datasets['Fake.br']\n",
        "fakebr[\"claim_text\"] = raw_df[\"text\"]\n",
        "fakebr[\"claim_author\"] = raw_df[\"author\"]\n",
        "fakebr[\"claim_url\"] = raw_df[\"link\"]\n",
        "fakebr[\"claim_date\"] = raw_df[\"date of publication\"]\n",
        "fakebr[\"category\"] = raw_df[\"category\"]\n",
        "fakebr[\"is_fake\"] = raw_df[\"label\"].map({\"fake\":  1, \"true\": -1})"
      ]
    },
    {
      "cell_type": "code",
      "execution_count": 40,
      "metadata": {},
      "outputs": [],
      "source": [
        "final_dataset = {\n",
        "    \"fact_check_tweet_pt\": fact_check_tt_pt,\n",
        "    \"FakeNewsSet\": fakeNewsSet,\n",
        "    \"FakeRecogna\": fakeRecogna,\n",
        "    \"central_de_fatos\": central_de_fatos,\n",
        "    \"fake_br\": fakebr,\n",
        "}"
      ]
    },
    {
      "cell_type": "code",
      "execution_count": 41,
      "metadata": {},
      "outputs": [],
      "source": [
        "review_urls_count.columns = [\"FakeRecogna\", \"central_de_fatos\", \"fact_check_tweet_pt\", 'FakeNewsSet']"
      ]
    },
    {
      "cell_type": "code",
      "execution_count": 42,
      "metadata": {},
      "outputs": [
        {
          "data": {
            "application/vnd.jupyter.widget-view+json": {
              "model_id": "4b18af638921437b803f6099346ada8b",
              "version_major": 2,
              "version_minor": 0
            },
            "text/plain": [
              "  0%|          | 0/3303 [00:00<?, ?it/s]"
            ]
          },
          "metadata": {},
          "output_type": "display_data"
        }
      ],
      "source": [
        "diff_reviews = set()\n",
        "\n",
        "intersection_urls = review_urls_count[review_urls_count.sum(axis=1) > 1]\n",
        "for url, row in tqdm(intersection_urls.iterrows(), total=intersection_urls.shape[0]):\n",
        "    intersection_label = set()\n",
        "\n",
        "    review_id = url_idx[url]\n",
        "    for dataset in row[row == True].index:\n",
        "        dataset_label = final_dataset[dataset][final_dataset[dataset][\"review_id\"] == review_id][\"is_fake\"].iloc[0]\n",
        "        intersection_label.add(dataset_label)\n",
        "\n",
        "    if len(intersection_label) > 1:\n",
        "        diff_reviews.add(review_id)\n",
        "    "
      ]
    },
    {
      "cell_type": "code",
      "execution_count": 43,
      "metadata": {},
      "outputs": [
        {
          "name": "stdout",
          "output_type": "stream",
          "text": [
            "3303 240\n"
          ]
        }
      ],
      "source": [
        "print(intersection_urls.shape[0], len(diff_reviews))"
      ]
    },
    {
      "cell_type": "code",
      "execution_count": 44,
      "metadata": {},
      "outputs": [],
      "source": [
        "for dataset in final_dataset:\n",
        "    if not \"review_id\" in final_dataset[dataset].columns:\n",
        "        continue\n",
        "\n",
        "    final_dataset[dataset] = final_dataset[dataset][~final_dataset[dataset][\"review_id\"].isin(diff_reviews)]"
      ]
    },
    {
      "cell_type": "code",
      "execution_count": 45,
      "metadata": {},
      "outputs": [
        {
          "name": "stdout",
          "output_type": "stream",
          "text": [
            "/mnt/d/Pesquisa/Fact br eval\n"
          ]
        }
      ],
      "source": [
        "%cd .."
      ]
    },
    {
      "cell_type": "code",
      "execution_count": 46,
      "metadata": {},
      "outputs": [
        {
          "ename": "FileExistsError",
          "evalue": "[Errno 17] File exists: 'data'",
          "output_type": "error",
          "traceback": [
            "\u001b[0;31m---------------------------------------------------------------------------\u001b[0m",
            "\u001b[0;31mFileExistsError\u001b[0m                           Traceback (most recent call last)",
            "Cell \u001b[0;32mIn[46], line 1\u001b[0m\n\u001b[0;32m----> 1\u001b[0m os\u001b[39m.\u001b[39;49mmakedirs(\u001b[39m\"\u001b[39;49m\u001b[39mdata\u001b[39;49m\u001b[39m\"\u001b[39;49m)\n",
            "File \u001b[0;32m<frozen os>:225\u001b[0m, in \u001b[0;36mmakedirs\u001b[0;34m(name, mode, exist_ok)\u001b[0m\n",
            "\u001b[0;31mFileExistsError\u001b[0m: [Errno 17] File exists: 'data'"
          ]
        }
      ],
      "source": [
        "os.makedirs(\"data\")"
      ]
    },
    {
      "cell_type": "code",
      "execution_count": 49,
      "metadata": {},
      "outputs": [],
      "source": [
        "for dataset in final_dataset:\n",
        "    final_dataset[dataset].to_csv(os.path.join(\"data\",f\"{dataset}.tsv\"), sep=\"\\t\", index=None)"
      ]
    },
    {
      "cell_type": "code",
      "execution_count": 52,
      "metadata": {},
      "outputs": [
        {
          "name": "stdout",
          "output_type": "stream",
          "text": [
            "updating: data/ (stored 0%)\n",
            "updating: data/central_de_fatos.tsv (deflated 68%)\n",
            "updating: data/fact_check_tweet_pt.tsv (deflated 72%)\n",
            "updating: data/FakeNewsSet.tsv (deflated 61%)\n",
            "updating: data/FakeRecogna.tsv (deflated 65%)\n",
            "updating: data/fake_br.tsv (deflated 63%)\n"
          ]
        }
      ],
      "source": [
        "!zip FactChecksbr.zip -r data"
      ]
    }
  ],
  "metadata": {
    "colab": {
      "provenance": []
    },
    "kernelspec": {
      "display_name": "Python 3",
      "name": "python3"
    },
    "language_info": {
      "codemirror_mode": {
        "name": "ipython",
        "version": 3
      },
      "file_extension": ".py",
      "mimetype": "text/x-python",
      "name": "python",
      "nbconvert_exporter": "python",
      "pygments_lexer": "ipython3",
      "version": "3.11.4"
    }
  },
  "nbformat": 4,
  "nbformat_minor": 0
}
